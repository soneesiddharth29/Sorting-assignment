{
 "cells": [
  {
   "cell_type": "markdown",
   "id": "1afaec5c-1cec-4551-95ff-7079db006248",
   "metadata": {},
   "source": [
    "Problem 1.Given an array of n numbers, give an algorithm which gives the element appearing maximum\n",
    "number of times?"
   ]
  },
  {
   "cell_type": "code",
   "execution_count": 1,
   "id": "60f1aa4e-e80e-455a-8ef9-7e0e56802522",
   "metadata": {},
   "outputs": [
    {
     "name": "stdout",
     "output_type": "stream",
     "text": [
      "Element appearing maximum number of times: 2\n"
     ]
    }
   ],
   "source": [
    "def find_max_occurrence(arr):\n",
    "    # Create a dictionary to store the frequency of each element\n",
    "    frequency_dict = {}\n",
    "    \n",
    "    # Iterate through the array and count the occurrences of each element\n",
    "    for num in arr:\n",
    "        if num in frequency_dict:\n",
    "            frequency_dict[num] += 1\n",
    "        else:\n",
    "            frequency_dict[num] = 1\n",
    "    \n",
    "    # Find the element with the maximum frequency\n",
    "    max_occurrence_element = max(frequency_dict, key=frequency_dict.get)\n",
    "    \n",
    "    return max_occurrence_element\n",
    "\n",
    "# Example usage:\n",
    "arr = [1, 2, 3, 2, 4, 2, 5, 2, 6, 2, 7]\n",
    "result = find_max_occurrence(arr)\n",
    "print(\"Element appearing maximum number of times:\", result)\n"
   ]
  },
  {
   "cell_type": "markdown",
   "id": "ae435cef-7b88-4a8e-807a-d277d8eee028",
   "metadata": {},
   "source": [
    "Problem 2 : We are given a list of n-1 integers and these integers are in the range of 1 to n . There are no\n",
    "duplicates in the list. One of the integers is missing in the list. Give an algorithm to find that element Ex:\n",
    "[1,2,4,6,3,7,8] 5 is the missing num."
   ]
  },
  {
   "cell_type": "code",
   "execution_count": 2,
   "id": "f7b98f23-8dc7-4729-9288-bebcd92c03a6",
   "metadata": {},
   "outputs": [
    {
     "name": "stdout",
     "output_type": "stream",
     "text": [
      "The missing number is: 5\n"
     ]
    }
   ],
   "source": [
    "def find_missing_number(nums):\n",
    "    n = len(nums) + 1  # n is the size of the original list\n",
    "    expected_sum = n * (n + 1) // 2  # Sum of the first n natural numbers\n",
    "    \n",
    "    actual_sum = sum(nums)  # Sum of the given list\n",
    "    \n",
    "    missing_number = expected_sum - actual_sum  # The missing number is the difference\n",
    "    \n",
    "    return missing_number\n",
    "\n",
    "# Example usage:\n",
    "lst = [1, 2, 4, 6, 3, 7, 8]\n",
    "missing_num = find_missing_number(lst)\n",
    "print(\"The missing number is:\", missing_num)\n"
   ]
  },
  {
   "cell_type": "markdown",
   "id": "d496be05-e413-4b69-bc37-f8e09ddc3b3c",
   "metadata": {},
   "source": [
    "Problem 3 : Given an array of n positive numbers. All numbers occurs even number of times except 1 which\n",
    "occurs odd number of times. Find that number in O(n) time and O(1) space. Ex: [1,2,3,2,3,1,3]. 3 is repeats odd\n",
    "times."
   ]
  },
  {
   "cell_type": "code",
   "execution_count": 3,
   "id": "39e76178-c5e2-44ec-a727-f8c0ee706f5a",
   "metadata": {},
   "outputs": [
    {
     "name": "stdout",
     "output_type": "stream",
     "text": [
      "The number occurring odd number of times is: 3\n"
     ]
    }
   ],
   "source": [
    "def find_odd_occurrence(arr):\n",
    "    result = 0\n",
    "    \n",
    "    # XOR all elements in the array\n",
    "    for num in arr:\n",
    "        result ^= num\n",
    "    \n",
    "    return result\n",
    "\n",
    "# Example usage:\n",
    "arr = [1, 2, 3, 2, 3, 1, 3]\n",
    "odd_occurrence = find_odd_occurrence(arr)\n",
    "print(\"The number occurring odd number of times is:\", odd_occurrence)\n"
   ]
  },
  {
   "cell_type": "markdown",
   "id": "be987a43-b4a9-4461-bddd-816e358cf958",
   "metadata": {},
   "source": [
    "Problem 4 : Given an array of n elements. Find two elements in the array such that their sum is equal to given\n",
    "element K."
   ]
  },
  {
   "cell_type": "code",
   "execution_count": 4,
   "id": "2acf0a87-4b4f-4ca7-b4de-546eabbdbd4e",
   "metadata": {},
   "outputs": [
    {
     "name": "stdout",
     "output_type": "stream",
     "text": [
      "Pair with sum 10: [4, 6]\n"
     ]
    }
   ],
   "source": [
    "def find_pair_with_sum(arr, target_sum):\n",
    "    seen_numbers = {}  # Dictionary to store seen numbers\n",
    "\n",
    "    for num in arr:\n",
    "        complement = target_sum - num\n",
    "\n",
    "        # Check if the complement is in the dictionary\n",
    "        if complement in seen_numbers:\n",
    "            return [complement, num]\n",
    "\n",
    "        # Add the current number to the dictionary\n",
    "        seen_numbers[num] = True\n",
    "\n",
    "    return None  # If no pair is found\n",
    "\n",
    "# Example usage:\n",
    "arr = [1, 2, 4, 6, 3, 7, 8]\n",
    "target_sum = 10\n",
    "pair = find_pair_with_sum(arr, target_sum)\n",
    "\n",
    "if pair:\n",
    "    print(f\"Pair with sum {target_sum}: {pair}\")\n",
    "else:\n",
    "    print(f\"No pair found with sum {target_sum}\")\n"
   ]
  },
  {
   "cell_type": "markdown",
   "id": "718d2b79-c224-4c16-9d72-651a6e232eaf",
   "metadata": {},
   "source": [
    "Problem 5 : Given an array of both positive and negative numbers, find two numbers such that their sum is\n",
    "closest to 0. Ex: [ 1 ,60 ,-10, 70, -80,85]. Ans : -80,85."
   ]
  },
  {
   "cell_type": "code",
   "execution_count": 5,
   "id": "e280709e-224b-4f18-9190-35342912a2b3",
   "metadata": {},
   "outputs": [
    {
     "name": "stdout",
     "output_type": "stream",
     "text": [
      "Pair with sum closest to 0: (-80, 85)\n"
     ]
    }
   ],
   "source": [
    "def find_closest_to_zero(arr):\n",
    "    arr.sort()\n",
    "    n = len(arr)\n",
    "\n",
    "    # Initialize variables to track the pair with the closest sum to 0\n",
    "    closest_sum = float('inf')\n",
    "    pair = (None, None)\n",
    "\n",
    "    left, right = 0, n - 1\n",
    "\n",
    "    while left < right:\n",
    "        current_sum = arr[left] + arr[right]\n",
    "\n",
    "        # Update the closest pair if the current pair has a smaller absolute sum\n",
    "        if abs(current_sum) < abs(closest_sum):\n",
    "            closest_sum = current_sum\n",
    "            pair = (arr[left], arr[right])\n",
    "\n",
    "        # Move pointers based on the comparison of current_sum with 0\n",
    "        if current_sum < 0:\n",
    "            left += 1\n",
    "        elif current_sum > 0:\n",
    "            right -= 1\n",
    "        else:\n",
    "            # If the sum is 0, it's the closest possible, return immediately\n",
    "            return pair\n",
    "\n",
    "    return pair\n",
    "\n",
    "# Example usage:\n",
    "arr = [1, 60, -10, 70, -80, 85]\n",
    "result_pair = find_closest_to_zero(arr)\n",
    "print(\"Pair with sum closest to 0:\", result_pair)\n"
   ]
  },
  {
   "cell_type": "markdown",
   "id": "861c99a0-d6dc-4b9a-8fef-f2351526021e",
   "metadata": {},
   "source": [
    "Problem 6 : Given an array of n elements . Find three elements such that their sum is equal to the given\n",
    "number."
   ]
  },
  {
   "cell_type": "code",
   "execution_count": 6,
   "id": "2255eb9b-18ab-4e3e-ab1c-1982e25ffd93",
   "metadata": {},
   "outputs": [
    {
     "name": "stdout",
     "output_type": "stream",
     "text": [
      "Triplet with sum 22: [4, 8, 10]\n"
     ]
    }
   ],
   "source": [
    "def find_triplet_with_sum(arr, target_sum):\n",
    "    arr.sort()\n",
    "    n = len(arr)\n",
    "\n",
    "    for i in range(n - 2):\n",
    "        left, right = i + 1, n - 1\n",
    "\n",
    "        while left < right:\n",
    "            current_sum = arr[i] + arr[left] + arr[right]\n",
    "\n",
    "            if current_sum == target_sum:\n",
    "                return [arr[i], arr[left], arr[right]]\n",
    "            elif current_sum < target_sum:\n",
    "                left += 1\n",
    "            else:\n",
    "                right -= 1\n",
    "\n",
    "    return None  # If no triplet is found\n",
    "\n",
    "# Example usage:\n",
    "arr = [1, 4, 45, 6, 10, 8]\n",
    "target_sum = 22\n",
    "triplet = find_triplet_with_sum(arr, target_sum)\n",
    "\n",
    "if triplet:\n",
    "    print(f\"Triplet with sum {target_sum}: {triplet}\")\n",
    "else:\n",
    "    print(f\"No triplet found with sum {target_sum}\")\n"
   ]
  },
  {
   "cell_type": "markdown",
   "id": "a6f371ae-760d-4b2a-9cdf-1726b07106b1",
   "metadata": {},
   "source": [
    "Problem 7 : Given an array of n elements . Find three elements i, j, k in the array such that\n",
    "i * i + j * j = k*k."
   ]
  },
  {
   "cell_type": "code",
   "execution_count": 7,
   "id": "9297fbe9-85d3-4723-bfed-c178cf684d49",
   "metadata": {},
   "outputs": [
    {
     "name": "stdout",
     "output_type": "stream",
     "text": [
      "Pythagorean Triplet: [3, 4, 5]\n"
     ]
    }
   ],
   "source": [
    "def find_pythagorean_triplet(arr):\n",
    "    n = len(arr)\n",
    "    arr.sort()\n",
    "\n",
    "    for k in range(n - 1, 1, -1):\n",
    "        left, right = 0, k - 1\n",
    "\n",
    "        while left < right:\n",
    "            sum_of_squares = arr[left] ** 2 + arr[right] ** 2\n",
    "\n",
    "            if sum_of_squares == arr[k] ** 2:\n",
    "                return [arr[left], arr[right], arr[k]]\n",
    "            elif sum_of_squares < arr[k] ** 2:\n",
    "                left += 1\n",
    "            else:\n",
    "                right -= 1\n",
    "\n",
    "    return None  # If no triplet is found\n",
    "\n",
    "# Example usage:\n",
    "arr = [3, 1, 4, 6, 5]\n",
    "triplet = find_pythagorean_triplet(arr)\n",
    "\n",
    "if triplet:\n",
    "    print(\"Pythagorean Triplet:\", triplet)\n",
    "else:\n",
    "    print(\"No Pythagorean Triplet found.\")\n"
   ]
  },
  {
   "cell_type": "markdown",
   "id": "7a1bd2ac-01d7-49a0-9aeb-5d617c84d108",
   "metadata": {},
   "source": [
    "Problem 8 : An element is a majority if it appears more than n/2 times. Give an algorithm takes an array of n\n",
    "element as argument and identifies a majority (if it exists)."
   ]
  },
  {
   "cell_type": "code",
   "execution_count": 8,
   "id": "850b63d6-a604-46d6-be0e-3c9d1aae8696",
   "metadata": {},
   "outputs": [
    {
     "name": "stdout",
     "output_type": "stream",
     "text": [
      "The majority element is: 2\n"
     ]
    }
   ],
   "source": [
    "def find_majority_element(arr):\n",
    "    candidate = None\n",
    "    count = 0\n",
    "\n",
    "    for num in arr:\n",
    "        if count == 0:\n",
    "            candidate = num\n",
    "            count = 1\n",
    "        elif candidate == num:\n",
    "            count += 1\n",
    "        else:\n",
    "            count -= 1\n",
    "\n",
    "    # Validate if the candidate is a majority element\n",
    "    count_candidate = arr.count(candidate)\n",
    "    if count_candidate > len(arr) // 2:\n",
    "        return candidate\n",
    "    else:\n",
    "        return None  # No majority element found\n",
    "\n",
    "# Example usage:\n",
    "arr = [2, 2, 3, 4, 2, 2, 5, 2, 2]\n",
    "result = find_majority_element(arr)\n",
    "\n",
    "if result is not None:\n",
    "    print(f\"The majority element is: {result}\")\n",
    "else:\n",
    "    print(\"No majority element found.\")\n"
   ]
  },
  {
   "cell_type": "markdown",
   "id": "680a120e-4bf9-4c81-8d19-3361de608c40",
   "metadata": {},
   "source": [
    "Problem 9 : Given n × n matrix, and in each row all 1’s are followed by 0’s. Find the row with the maximum\n",
    "number of 0’s."
   ]
  },
  {
   "cell_type": "code",
   "execution_count": 9,
   "id": "c8d3c968-493b-401c-b0aa-3aea0b218bfd",
   "metadata": {},
   "outputs": [
    {
     "name": "stdout",
     "output_type": "stream",
     "text": [
      "Row with the maximum number of 0's: 2\n"
     ]
    }
   ],
   "source": [
    "def find_row_with_max_zeros(matrix):\n",
    "    n = len(matrix)\n",
    "    max_zeros_row = 0  # Initialize the row with the maximum number of zeros\n",
    "    max_zeros_count = matrix[0].count(0)  # Initialize the count of zeros for the first row\n",
    "\n",
    "    for i in range(1, n):\n",
    "        zeros_count = matrix[i].count(0)\n",
    "\n",
    "        if zeros_count > max_zeros_count:\n",
    "            max_zeros_count = zeros_count\n",
    "            max_zeros_row = i\n",
    "\n",
    "    return max_zeros_row\n",
    "\n",
    "# Example usage:\n",
    "matrix = [\n",
    "    [1, 1, 1, 0, 0],\n",
    "    [1, 1, 0, 0, 0],\n",
    "    [1, 0, 0, 0, 0],\n",
    "    [1, 1, 1, 1, 0],\n",
    "    [1, 1, 1, 0, 0]\n",
    "]\n",
    "\n",
    "result = find_row_with_max_zeros(matrix)\n",
    "print(\"Row with the maximum number of 0's:\", result)\n"
   ]
  },
  {
   "cell_type": "markdown",
   "id": "6c26cfb6-64d6-474f-9ea2-2d82b97ad008",
   "metadata": {},
   "source": [
    "Problem 10 : Sort an array of 0’s, 1’s and 2’s [or R’s, G’s and B’s]: Given an array A[] consisting of 0’s, 1’s and\n",
    "2’s, give an algorithm for sorting A[].The algorithm should put all 0’s first, then all 1’s and finally all 2’s at the\n",
    "end. Example Input = {0,1,1,0,1,2,1,2,0,0,0,1}, Output = {0,0,0,0,0,1,1,1,1,1,2,2}"
   ]
  },
  {
   "cell_type": "code",
   "execution_count": 10,
   "id": "af532346-edf8-4aa1-b7eb-ea6499f3e6af",
   "metadata": {},
   "outputs": [
    {
     "name": "stdout",
     "output_type": "stream",
     "text": [
      "Sorted array: [0, 0, 0, 0, 0, 1, 1, 1, 1, 1, 2, 2]\n"
     ]
    }
   ],
   "source": [
    "def sort_012(arr):\n",
    "    low = 0\n",
    "    mid = 0\n",
    "    high = len(arr) - 1\n",
    "\n",
    "    while mid <= high:\n",
    "        if arr[mid] == 0:\n",
    "            arr[low], arr[mid] = arr[mid], arr[low]\n",
    "            low += 1\n",
    "            mid += 1\n",
    "        elif arr[mid] == 1:\n",
    "            mid += 1\n",
    "        else:\n",
    "            arr[mid], arr[high] = arr[high], arr[mid]\n",
    "            high -= 1\n",
    "\n",
    "# Example usage:\n",
    "arr = [0, 1, 1, 0, 1, 2, 1, 2, 0, 0, 0, 1]\n",
    "sort_012(arr)\n",
    "print(\"Sorted array:\", arr)\n"
   ]
  },
  {
   "cell_type": "markdown",
   "id": "7d993113-5629-443b-82d1-589b5440ae04",
   "metadata": {},
   "source": [
    "COMPLETE"
   ]
  },
  {
   "cell_type": "code",
   "execution_count": null,
   "id": "0529bf15-b243-4b15-b43a-ad58ce4cfb54",
   "metadata": {},
   "outputs": [],
   "source": []
  }
 ],
 "metadata": {
  "kernelspec": {
   "display_name": "Python 3 (ipykernel)",
   "language": "python",
   "name": "python3"
  },
  "language_info": {
   "codemirror_mode": {
    "name": "ipython",
    "version": 3
   },
   "file_extension": ".py",
   "mimetype": "text/x-python",
   "name": "python",
   "nbconvert_exporter": "python",
   "pygments_lexer": "ipython3",
   "version": "3.10.8"
  }
 },
 "nbformat": 4,
 "nbformat_minor": 5
}
